{
  "nbformat": 4,
  "nbformat_minor": 0,
  "metadata": {
    "colab": {
      "provenance": []
    },
    "kernelspec": {
      "name": "python3",
      "display_name": "Python 3"
    },
    "language_info": {
      "name": "python"
    }
  },
  "cells": [
    {
      "cell_type": "code",
      "execution_count": 1,
      "metadata": {
        "id": "DgHHm3Xv8F6I"
      },
      "outputs": [],
      "source": [
        "import numpy as np\n",
        "from matplotlib import pyplot as plt\n",
        "import pandas as pd\n",
        "import seaborn as sns  # for nicer plots\n",
        "sns.set(style=\"darkgrid\")  # default style\n",
        "\n",
        "from sklearn.model_selection import train_test_split\n",
        "from sklearn.metrics import confusion_matrix, ConfusionMatrixDisplay\n",
        "\n",
        "import tensorflow as tf\n",
        "from tensorflow import keras\n",
        "from keras import metrics\n",
        "from keras.datasets import fashion_mnist\n",
        "\n",
        "tf.get_logger().setLevel('INFO')"
      ]
    },
    {
      "cell_type": "code",
      "source": [
        "# Load the Fashion MNIST dataset.\n",
        "(X_train, Y_train), (X_test, Y_test) = fashion_mnist.load_data()\n",
        "\n",
        "# Normalize pixel values to range between 0 and 1\n",
        "X_train = X_train / 255.0\n",
        "X_test = X_test / 255.0\n",
        "\n",
        "# Flatten the images from 2D (28x28) to 1D (784)\n",
        "X_train = X_train.reshape(X_train.shape[0], -1)\n",
        "X_test = X_test.reshape(X_test.shape[0], -1)\n",
        "\n",
        "# Print the shapes of the arrays\n",
        "print(\"Shape of X_train:\", X_train.shape)\n",
        "print(\"Shape of X_test:\", X_test.shape)\n",
        "\n",
        "# Determine the minimum and maximum pixel values for images in X_train\n",
        "min_pixel_value = np.min(X_train)\n",
        "max_pixel_value = np.max(X_train)\n",
        "\n",
        "# Make copies of the original dataset for binary classification task.\n",
        "Y_train = np.copy(Y_train)\n",
        "Y_test = np.copy(Y_test)\n",
        "\n",
        "# Check unique values in the original Y_test before conversion\n",
        "print(\"Unique values in original Y_test:\", np.unique(Y_test))\n",
        "# YOUR CODE HERE\n",
        "Y_train.shape\n",
        "Y_train[Y_train != 7] = 0\n",
        "Y_train[Y_train == 7] = 1\n",
        "Y_test[Y_test != 7] = 0\n",
        "Y_test[Y_test == 7] = 1\n",
        "np.unique(Y_test)\n",
        "\n",
        "# YOUR CODE HERE\n",
        "X_train_mini, X_val, Y_train_mini, Y_val = train_test_split(X_train, Y_train, test_size=0.2, random_state=1234)\n",
        "\n",
        "print(\"Shape of X_train_mini:\", X_train_mini.shape)\n",
        "print(\"Shape of X_val:\", X_val.shape)\n",
        "print(\"Shape of Y_train_mini:\", Y_train_mini.shape)\n",
        "print(\"Shape of Y_val:\", Y_val.shape)\n",
        "\n",
        "np.random.seed(0)\n",
        "# YOUR CODE HERE\n",
        "\n",
        "# Generate a list of shuffled indices\n",
        "num_samples = len(X_train_mini)\n",
        "shuffled_indices = np.random.permutation(num_samples)\n",
        "\n",
        "# Reorder X_train_mini and Y_train_mini using shuffled indices\n",
        "X_train_mini = X_train_mini[shuffled_indices]\n",
        "Y_train_mini = Y_train_mini[shuffled_indices]\n",
        "print(X_train_mini.shape)\n",
        "print(Y_train_mini.shape)"
      ],
      "metadata": {
        "colab": {
          "base_uri": "https://localhost:8080/"
        },
        "id": "7K0rc1IV8Vtq",
        "outputId": "82b277ca-d89a-4d58-d14b-5dcae84ebef8"
      },
      "execution_count": 2,
      "outputs": [
        {
          "output_type": "stream",
          "name": "stdout",
          "text": [
            "Downloading data from https://storage.googleapis.com/tensorflow/tf-keras-datasets/train-labels-idx1-ubyte.gz\n",
            "29515/29515 [==============================] - 0s 0us/step\n",
            "Downloading data from https://storage.googleapis.com/tensorflow/tf-keras-datasets/train-images-idx3-ubyte.gz\n",
            "26421880/26421880 [==============================] - 0s 0us/step\n",
            "Downloading data from https://storage.googleapis.com/tensorflow/tf-keras-datasets/t10k-labels-idx1-ubyte.gz\n",
            "5148/5148 [==============================] - 0s 0us/step\n",
            "Downloading data from https://storage.googleapis.com/tensorflow/tf-keras-datasets/t10k-images-idx3-ubyte.gz\n",
            "4422102/4422102 [==============================] - 0s 0us/step\n",
            "Shape of X_train: (60000, 784)\n",
            "Shape of X_test: (10000, 784)\n",
            "Unique values in original Y_test: [0 1 2 3 4 5 6 7 8 9]\n",
            "Shape of X_train_mini: (48000, 784)\n",
            "Shape of X_val: (12000, 784)\n",
            "Shape of Y_train_mini: (48000,)\n",
            "Shape of Y_val: (12000,)\n",
            "(48000, 784)\n",
            "(48000,)\n"
          ]
        }
      ]
    },
    {
      "cell_type": "code",
      "source": [
        "def build_model(num_features, learning_rate):\n",
        "  \"\"\"Build a TF linear regression model using Keras.\n",
        "\n",
        "  Args:\n",
        "    num_features: The number of input features.\n",
        "    learning_rate: The desired learning rate for SGD.\n",
        "\n",
        "  Returns:\n",
        "    model: A tf.keras model (graph).\n",
        "  \"\"\"\n",
        "  # This is not strictly necessary, but each time you build a model, TF adds\n",
        "  # new nodes (rather than overwriting), so the colab session can end up\n",
        "  # storing lots of copies of the graph when you only care about the most\n",
        "  # recent. Also, as there is some randomness built into training with SGD,\n",
        "  # setting a random seed ensures that results are the same on each identical\n",
        "  # training run.\n",
        "  tf.keras.backend.clear_session()\n",
        "  tf.random.set_seed(0)\n",
        "\n",
        "  # Build a model using keras.Sequential. While this is intended for neural\n",
        "  # networks (which may have multiple layers), we want just a single layer for\n",
        "  # binary logistic regression.\n",
        "  model = tf.keras.Sequential()\n",
        "  model.add(tf.keras.layers.Dense(\n",
        "        units=1,                       # Single output unit for binary classification\n",
        "        input_shape=(num_features,),   # Input shape should match the number of features\n",
        "        use_bias=True,                 # Use bias (intercept)\n",
        "        activation='sigmoid',          # Sigmoid activation function for binary classification\n",
        "        kernel_initializer=tf.keras.initializers.Ones(),  # Initialize weights to 1\n",
        "        bias_initializer=tf.keras.initializers.Ones()     # Initialize bias to 1\n",
        "  ))\n",
        "\n",
        "\n",
        "  # We need to choose an optimizer. We'll use SGD, which is actually mini-batch SGD\n",
        "  optimizer = tf.keras.optimizers.SGD(learning_rate=learning_rate)\n",
        "\n",
        "  # Finally, compile the model. Select the accuracy metric. This finalizes the graph for training.\n",
        "  model.compile(optimizer=optimizer,\n",
        "                  loss='binary_crossentropy',\n",
        "                  metrics=['accuracy'])\n",
        "\n",
        "  return model\n",
        "\n",
        "# Set the learning rate\n",
        "learning_rate = 0.01\n",
        "\n",
        "# Build and compile the model\n",
        "model_tf2 = build_model(num_features=X_train_mini.shape[1], learning_rate=learning_rate)\n",
        "\n",
        "num_epochs = 20\n",
        "batch_size = 32\n",
        "\n",
        "history2 = model_tf2.fit(X_train_mini, Y_train_mini,\n",
        "                       epochs=num_epochs,\n",
        "                       batch_size=batch_size,\n",
        "                       validation_data=(X_val, Y_val))\n",
        "\n",
        "train_loss2 = history2.history['loss']\n",
        "val_loss2 = history2.history['val_loss']\n",
        "epochs2 = range(1, len(train_loss2) + 1)"
      ],
      "metadata": {
        "colab": {
          "base_uri": "https://localhost:8080/"
        },
        "id": "xs2H4Yik8HKt",
        "outputId": "17b014cf-3010-4e5a-c6f7-da54ec4da16e"
      },
      "execution_count": 3,
      "outputs": [
        {
          "output_type": "stream",
          "name": "stdout",
          "text": [
            "Epoch 1/20\n",
            "1500/1500 [==============================] - 8s 5ms/step - loss: 19.2664 - accuracy: 0.7237 - val_loss: 0.6340 - val_accuracy: 0.9037\n",
            "Epoch 2/20\n",
            "1500/1500 [==============================] - 8s 5ms/step - loss: 0.4705 - accuracy: 0.9193 - val_loss: 0.3828 - val_accuracy: 0.9284\n",
            "Epoch 3/20\n",
            "1500/1500 [==============================] - 7s 4ms/step - loss: 0.3232 - accuracy: 0.9331 - val_loss: 0.2893 - val_accuracy: 0.9377\n",
            "Epoch 4/20\n",
            "1500/1500 [==============================] - 8s 6ms/step - loss: 0.2523 - accuracy: 0.9424 - val_loss: 0.2350 - val_accuracy: 0.9438\n",
            "Epoch 5/20\n",
            "1500/1500 [==============================] - 3s 2ms/step - loss: 0.2099 - accuracy: 0.9479 - val_loss: 0.1997 - val_accuracy: 0.9475\n",
            "Epoch 6/20\n",
            "1500/1500 [==============================] - 3s 2ms/step - loss: 0.1820 - accuracy: 0.9523 - val_loss: 0.1727 - val_accuracy: 0.9523\n",
            "Epoch 7/20\n",
            "1500/1500 [==============================] - 3s 2ms/step - loss: 0.1624 - accuracy: 0.9554 - val_loss: 0.1550 - val_accuracy: 0.9542\n",
            "Epoch 8/20\n",
            "1500/1500 [==============================] - 4s 3ms/step - loss: 0.1473 - accuracy: 0.9582 - val_loss: 0.1398 - val_accuracy: 0.9563\n",
            "Epoch 9/20\n",
            "1500/1500 [==============================] - 3s 2ms/step - loss: 0.1354 - accuracy: 0.9600 - val_loss: 0.1289 - val_accuracy: 0.9573\n",
            "Epoch 10/20\n",
            "1500/1500 [==============================] - 3s 2ms/step - loss: 0.1254 - accuracy: 0.9617 - val_loss: 0.1204 - val_accuracy: 0.9594\n",
            "Epoch 11/20\n",
            "1500/1500 [==============================] - 3s 2ms/step - loss: 0.1174 - accuracy: 0.9634 - val_loss: 0.1113 - val_accuracy: 0.9612\n",
            "Epoch 12/20\n",
            "1500/1500 [==============================] - 3s 2ms/step - loss: 0.1103 - accuracy: 0.9652 - val_loss: 0.1049 - val_accuracy: 0.9622\n",
            "Epoch 13/20\n",
            "1500/1500 [==============================] - 3s 2ms/step - loss: 0.1044 - accuracy: 0.9666 - val_loss: 0.0988 - val_accuracy: 0.9643\n",
            "Epoch 14/20\n",
            "1500/1500 [==============================] - 3s 2ms/step - loss: 0.0993 - accuracy: 0.9674 - val_loss: 0.0948 - val_accuracy: 0.9653\n",
            "Epoch 15/20\n",
            "1500/1500 [==============================] - 3s 2ms/step - loss: 0.0948 - accuracy: 0.9691 - val_loss: 0.0906 - val_accuracy: 0.9657\n",
            "Epoch 16/20\n",
            "1500/1500 [==============================] - 3s 2ms/step - loss: 0.0909 - accuracy: 0.9699 - val_loss: 0.0864 - val_accuracy: 0.9674\n",
            "Epoch 17/20\n",
            "1500/1500 [==============================] - 4s 3ms/step - loss: 0.0875 - accuracy: 0.9707 - val_loss: 0.0834 - val_accuracy: 0.9675\n",
            "Epoch 18/20\n",
            "1500/1500 [==============================] - 4s 3ms/step - loss: 0.0844 - accuracy: 0.9722 - val_loss: 0.0801 - val_accuracy: 0.9695\n",
            "Epoch 19/20\n",
            "1500/1500 [==============================] - 3s 2ms/step - loss: 0.0817 - accuracy: 0.9728 - val_loss: 0.0777 - val_accuracy: 0.9697\n",
            "Epoch 20/20\n",
            "1500/1500 [==============================] - 3s 2ms/step - loss: 0.0793 - accuracy: 0.9737 - val_loss: 0.0756 - val_accuracy: 0.9699\n"
          ]
        }
      ]
    },
    {
      "cell_type": "code",
      "source": [
        "from imblearn.over_sampling import RandomOverSampler\n",
        "from imblearn.under_sampling import RandomUnderSampler\n",
        "\n",
        "# Implement data balancing techniques\n",
        "# Oversampling the minority class (sneaker class)\n",
        "oversampler = RandomOverSampler()\n",
        "X_train_balanced, Y_train_balanced = oversampler.fit_resample(X_train_mini, Y_train_mini)\n",
        "\n",
        "# Undersampling the majority class (non-sneaker class)\n",
        "undersampler = RandomUnderSampler()\n",
        "X_train_balanced, Y_train_balanced = undersampler.fit_resample(X_train_balanced, Y_train_balanced)\n",
        "\n",
        "# Retrain the model on the balanced dataset\n",
        "model_tf2.fit(X_train_balanced, Y_train_balanced, epochs=num_epochs, batch_size=batch_size, validation_data=(X_val, Y_val))\n",
        "\n",
        "# Evaluate the model's performance\n",
        "test_loss_balanced, test_accuracy_balanced = model_tf2.evaluate(X_test, Y_test)\n",
        "\n",
        "print(\"Accuracy on Test Dataset (Balanced):\", test_accuracy_balanced)"
      ],
      "metadata": {
        "colab": {
          "base_uri": "https://localhost:8080/"
        },
        "id": "dJaEIQLZ8HY9",
        "outputId": "b3c79338-b2bb-407e-d570-1d19831103f4"
      },
      "execution_count": 4,
      "outputs": [
        {
          "output_type": "stream",
          "name": "stdout",
          "text": [
            "Epoch 1/20\n",
            "2700/2700 [==============================] - 8s 3ms/step - loss: 0.1417 - accuracy: 0.9537 - val_loss: 0.1350 - val_accuracy: 0.9480\n",
            "Epoch 2/20\n",
            "2700/2700 [==============================] - 4s 2ms/step - loss: 0.1264 - accuracy: 0.9571 - val_loss: 0.1166 - val_accuracy: 0.9542\n",
            "Epoch 3/20\n",
            "2700/2700 [==============================] - 6s 2ms/step - loss: 0.1167 - accuracy: 0.9604 - val_loss: 0.1083 - val_accuracy: 0.9570\n",
            "Epoch 4/20\n",
            "2700/2700 [==============================] - 5s 2ms/step - loss: 0.1095 - accuracy: 0.9630 - val_loss: 0.1144 - val_accuracy: 0.9557\n",
            "Epoch 5/20\n",
            "2700/2700 [==============================] - 5s 2ms/step - loss: 0.1039 - accuracy: 0.9649 - val_loss: 0.1032 - val_accuracy: 0.9596\n",
            "Epoch 6/20\n",
            "2700/2700 [==============================] - 11s 4ms/step - loss: 0.0994 - accuracy: 0.9664 - val_loss: 0.0998 - val_accuracy: 0.9613\n",
            "Epoch 7/20\n",
            "2700/2700 [==============================] - 11s 4ms/step - loss: 0.0957 - accuracy: 0.9680 - val_loss: 0.0971 - val_accuracy: 0.9620\n",
            "Epoch 8/20\n",
            "2700/2700 [==============================] - 4s 2ms/step - loss: 0.0927 - accuracy: 0.9692 - val_loss: 0.0924 - val_accuracy: 0.9636\n",
            "Epoch 9/20\n",
            "2700/2700 [==============================] - 6s 2ms/step - loss: 0.0901 - accuracy: 0.9706 - val_loss: 0.0974 - val_accuracy: 0.9626\n",
            "Epoch 10/20\n",
            "2700/2700 [==============================] - 5s 2ms/step - loss: 0.0880 - accuracy: 0.9711 - val_loss: 0.0906 - val_accuracy: 0.9647\n",
            "Epoch 11/20\n",
            "2700/2700 [==============================] - 5s 2ms/step - loss: 0.0861 - accuracy: 0.9714 - val_loss: 0.0931 - val_accuracy: 0.9638\n",
            "Epoch 12/20\n",
            "2700/2700 [==============================] - 6s 2ms/step - loss: 0.0847 - accuracy: 0.9720 - val_loss: 0.0918 - val_accuracy: 0.9648\n",
            "Epoch 13/20\n",
            "2700/2700 [==============================] - 6s 2ms/step - loss: 0.0833 - accuracy: 0.9726 - val_loss: 0.0968 - val_accuracy: 0.9625\n",
            "Epoch 14/20\n",
            "2700/2700 [==============================] - 9s 4ms/step - loss: 0.0821 - accuracy: 0.9728 - val_loss: 0.0968 - val_accuracy: 0.9630\n",
            "Epoch 15/20\n",
            "2700/2700 [==============================] - 5s 2ms/step - loss: 0.0812 - accuracy: 0.9733 - val_loss: 0.0899 - val_accuracy: 0.9657\n",
            "Epoch 16/20\n",
            "2700/2700 [==============================] - 7s 3ms/step - loss: 0.0802 - accuracy: 0.9734 - val_loss: 0.0936 - val_accuracy: 0.9645\n",
            "Epoch 17/20\n",
            "2700/2700 [==============================] - 5s 2ms/step - loss: 0.0794 - accuracy: 0.9739 - val_loss: 0.0897 - val_accuracy: 0.9664\n",
            "Epoch 18/20\n",
            "2700/2700 [==============================] - 4s 2ms/step - loss: 0.0787 - accuracy: 0.9744 - val_loss: 0.0938 - val_accuracy: 0.9650\n",
            "Epoch 19/20\n",
            "2700/2700 [==============================] - 6s 2ms/step - loss: 0.0780 - accuracy: 0.9744 - val_loss: 0.0871 - val_accuracy: 0.9674\n",
            "Epoch 20/20\n",
            "2700/2700 [==============================] - 5s 2ms/step - loss: 0.0774 - accuracy: 0.9746 - val_loss: 0.0884 - val_accuracy: 0.9672\n",
            "313/313 [==============================] - 1s 1ms/step - loss: 0.0935 - accuracy: 0.9669\n",
            "Accuracy on Test Dataset (Balanced): 0.9668999910354614\n"
          ]
        }
      ]
    },
    {
      "cell_type": "code",
      "source": [
        "# Obtain predictions on the test dataset\n",
        "y_pred = (model_tf2.predict(X_test) > 0.5).astype(\"int32\")\n",
        "\n",
        "# Compute confusion matrix\n",
        "cm = confusion_matrix(Y_test, y_pred)\n",
        "\n",
        "# Visualize confusion matrix\n",
        "disp = ConfusionMatrixDisplay(confusion_matrix=cm, display_labels=[0, 1])\n",
        "disp.plot()\n",
        "plt.title('Confusion Matrix')\n",
        "plt.show()\n",
        "\n",
        "# Calculate TP, FN, FP, TN\n",
        "TP = cm[1, 1]\n",
        "FN = cm[1, 0]\n",
        "FP = cm[0, 1]\n",
        "TN = cm[0, 0]\n",
        "\n",
        "print(\"True Positives (TP):\", TP)\n",
        "print(\"False Negatives (FN):\", FN)\n",
        "print(\"False Positives (FP):\", FP)\n",
        "print(\"True Negatives (TN):\", TN)\n",
        "\n",
        "# Compute subgroup accuracy separately for sneaker and non-sneaker classes\n",
        "sneaker_indices = np.where(Y_test == 1)[0]\n",
        "non_sneaker_indices = np.where(Y_test == 0)[0]\n",
        "\n",
        "sneaker_accuracy = np.mean(y_pred[sneaker_indices] == Y_test[sneaker_indices])\n",
        "non_sneaker_accuracy = np.mean(y_pred[non_sneaker_indices] == Y_test[non_sneaker_indices])\n",
        "\n",
        "print(\"Subgroup Accuracy for Sneaker Class:\", sneaker_accuracy)\n",
        "print(\"Subgroup Accuracy for Non-Sneaker Class:\", non_sneaker_accuracy)"
      ],
      "metadata": {
        "colab": {
          "base_uri": "https://localhost:8080/",
          "height": 602
        },
        "id": "UHNlcjni9I3l",
        "outputId": "1c7b7da8-a815-40bd-d1a4-d2c4339665db"
      },
      "execution_count": 5,
      "outputs": [
        {
          "output_type": "stream",
          "name": "stdout",
          "text": [
            "313/313 [==============================] - 1s 4ms/step\n"
          ]
        },
        {
          "output_type": "display_data",
          "data": {
            "text/plain": [
              "<Figure size 640x480 with 2 Axes>"
            ],
            "image/png": "[encoded data removed]"
          },
          "metadata": {}
        },
        {
          "output_type": "stream",
          "name": "stdout",
          "text": [
            "True Positives (TP): 978\n",
            "False Negatives (FN): 22\n",
            "False Positives (FP): 309\n",
            "True Negatives (TN): 8691\n",
            "Subgroup Accuracy for Sneaker Class: 0.978\n",
            "Subgroup Accuracy for Non-Sneaker Class: 0.9656666666666667\n"
          ]
        }
      ]
    },
    {
      "cell_type": "code",
      "source": [],
      "metadata": {
        "id": "e2HxeU6o9uEz"
      },
      "execution_count": null,
      "outputs": []
    }
  ]
}